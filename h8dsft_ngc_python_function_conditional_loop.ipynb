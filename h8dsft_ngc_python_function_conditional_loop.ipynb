{
 "cells": [
  {
   "cell_type": "code",
   "execution_count": 2,
   "metadata": {},
   "outputs": [
    {
     "name": "stdout",
     "output_type": "stream",
     "text": [
      "1\n",
      "x\n",
      "2\n",
      "x\n",
      "3\n",
      "x\n",
      "4\n",
      "x\n",
      "5\n",
      "x\n",
      "6\n",
      "x\n",
      "7\n",
      "x\n",
      "8\n",
      "x\n",
      "9\n",
      "x\n"
     ]
    }
   ],
   "source": [
    "# EX 1 print 1 22 333 4444 ...\n",
    "\n",
    "x = range(9)\n",
    "for i in x:\n",
    "    a = i+1\n",
    "    print(a)\n",
    "    print('x')\n",
    "    # for i in a:\n",
    "    #   print(a)\n",
    "    #   print('n')\n",
    "\n",
    "  # print('x')\n",
    "  # for a in x :\n",
    "  #   print(a)"
   ]
  },
  {
   "cell_type": "code",
   "execution_count": 2,
   "metadata": {},
   "outputs": [],
   "source": [
    "# EX 2 Check Password\n"
   ]
  },
  {
   "cell_type": "markdown",
   "metadata": {},
   "source": [
    "TASK 1 NUMBER OF WORD\n",
    "Create a function that count the number of word in a sentence.Instruction:\n",
    "1.Create function called `number_of_word`.\n",
    "2.This function takes 1 input, `sentence`.\n",
    "3.Inside this function, you can utilize `.split()` method to split the sentence into list of word(s).\n",
    "4.Also, `len()` function to count the element inside a list.\n",
    "5.Return the number of word from the sentence."
   ]
  },
  {
   "cell_type": "code",
   "execution_count": 9,
   "metadata": {},
   "outputs": [
    {
     "name": "stdout",
     "output_type": "stream",
     "text": [
      "['hallo', 'semangat', 'ya']\n",
      "3\n",
      "['SitiSofiahRamadhany']\n",
      "1\n"
     ]
    }
   ],
   "source": [
    "def number_of_word(sentence):\n",
    "    print(sentence.split())\n",
    "    a = sentence.split()\n",
    "    print(len(a))\n",
    "\n",
    "number_of_word(sentence = 'Hallo semangat ya')\n",
    "number_of_word(sentence = 'SitiSofiahRamadhany')\n",
    "\n",
    "#return??"
   ]
  },
  {
   "cell_type": "markdown",
   "metadata": {},
   "source": [
    "TASK 2 FIND MULTIPLES\n",
    "Create a function that will get list of number(s) from a certain range that multiples of given number.\n",
    "Instruction:\n",
    "1.Create function called `find_multiples`.\n",
    "2.This function takes 3 input: `start_range`, `end_range`, and `multiple`.\n",
    "3.From every number within the given range, check if that number is the mutliples of `multiple`.\n",
    "4.Return list of the possible multiple number(s).\n",
    "Example:\n",
    "-Input: find_multiple(start_range= 1, end_range= 20, multiple= 5)-\n",
    "Output: [5, 10, 15, 20]-\n",
    "Input: find_multiple(start_range= 1, end_range= 50, multiple= 10)\n",
    "-Output: [10, 20, 30, 40, 50]5\n"
   ]
  },
  {
   "cell_type": "code",
   "execution_count": 8,
   "metadata": {},
   "outputs": [
    {
     "name": "stdout",
     "output_type": "stream",
     "text": [
      "[5, 10, 15, 20]\n",
      "[10, 20, 30, 40, 50]\n"
     ]
    }
   ],
   "source": [
    "\n",
    "def find_multiples(start_range, end_range, multiple):\n",
    "    # list.append()\n",
    "    list = []\n",
    "    for i in range(start_range, end_range+1):\n",
    "        if i % multiple == 0:\n",
    "            list.append(i)\n",
    "    return list\n",
    "\n",
    "    #hasilnya brp list shg bs loop\n",
    "\n",
    "print(find_multiples(1, 20, 5))\n",
    "print(find_multiples(1, 50, 10))"
   ]
  },
  {
   "cell_type": "markdown",
   "metadata": {},
   "source": [
    "TASK 3 GRADE CONVERTER\n",
    "\n"
   ]
  },
  {
   "cell_type": "markdown",
   "metadata": {},
   "source": []
  },
  {
   "cell_type": "markdown",
   "metadata": {},
   "source": [
    "TASK 4 FIBONACCI SEQUENCE\n",
    "create a function that will return the value of n-th fibonacci number.\n",
    "Instruction:\n",
    "1.The function will take 1 input parameter, n, represents the asked number from our fibonacci sequence index.\n",
    "2.The fibonacci sequence will start with the value of 0 and 1.\n",
    "3.This function will return the n-th value from fibonacci se\n",
    "0, 1, 1, 2, 3, 5, 8, 13, ... 55"
   ]
  },
  {
   "cell_type": "code",
   "execution_count": 1,
   "metadata": {},
   "outputs": [
    {
     "name": "stdout",
     "output_type": "stream",
     "text": [
      "0\n",
      "0\n",
      "1\n",
      "1\n",
      "3\n",
      "3\n",
      "6\n",
      "6\n",
      "10\n",
      "10\n",
      "15\n",
      "15\n"
     ]
    }
   ],
   "source": [
    "def fibonacci(n):\n",
    "    a = 0\n",
    "    b = 0\n",
    "    for i in range(0,n+1):\n",
    "        a = i + b\n",
    "        print(a)\n",
    "        b = a\n",
    "        print(b)\n",
    "\n",
    "fibonacci(5)\n",
    "# print(\"x\")\n",
    "# print(fibonacci(10))\n",
    "\n",
    "# 0\n",
    "# 0+1 1\n",
    "# 1+1 2\n",
    "# 1+2 3\n",
    "# 2+3 5\n",
    "# 3+5 8\n",
    "\n",
    "# for i in range(0,n+1):\n",
    "#         a = i + b\n",
    "#         print(a)\n",
    "#         b = a  \n",
    "# 0+1 1\n",
    "# 1+2 3\n",
    "# 3+3 6"
   ]
  }
 ],
 "metadata": {
  "kernelspec": {
   "display_name": "base",
   "language": "python",
   "name": "python3"
  },
  "language_info": {
   "codemirror_mode": {
    "name": "ipython",
    "version": 3
   },
   "file_extension": ".py",
   "mimetype": "text/x-python",
   "name": "python",
   "nbconvert_exporter": "python",
   "pygments_lexer": "ipython3",
   "version": "3.9.18"
  }
 },
 "nbformat": 4,
 "nbformat_minor": 2
}
